{
 "cells": [
  {
   "cell_type": "code",
   "execution_count": 164,
   "metadata": {
    "collapsed": true
   },
   "outputs": [],
   "source": [
    "import pandas as pd\n",
    "from matplotlib import pyplot as plt"
   ]
  },
  {
   "cell_type": "code",
   "execution_count": 165,
   "metadata": {
    "collapsed": true
   },
   "outputs": [],
   "source": [
    "names = ['Cultivator','Alcohal', 'Malic_acid', 'Ash', 'Alcalinity_of_ash', 'Magneium','Total_phenols','Falvanoids','Nonfalvanoids_phenols','Proanthocyanins','Color_intensity','Hue','od280','Proline']"
   ]
  },
  {
   "cell_type": "code",
   "execution_count": 166,
   "metadata": {},
   "outputs": [
    {
     "data": {
      "text/plain": [
       "['Cultivator',\n",
       " 'Alcohal',\n",
       " 'Malic_acid',\n",
       " 'Ash',\n",
       " 'Alcalinity_of_ash',\n",
       " 'Magneium',\n",
       " 'Total_phenols',\n",
       " 'Falvanoids',\n",
       " 'Nonfalvanoids_phenols',\n",
       " 'Proanthocyanins',\n",
       " 'Color_intensity',\n",
       " 'Hue',\n",
       " 'od280',\n",
       " 'Proline']"
      ]
     },
     "execution_count": 166,
     "metadata": {},
     "output_type": "execute_result"
    }
   ],
   "source": [
    "names"
   ]
  },
  {
   "cell_type": "code",
   "execution_count": 167,
   "metadata": {},
   "outputs": [],
   "source": [
    "mywinedata = pd.read_excel(r\"C:\\ProgramData\\Ml_Data\\mywinedata.xlsx\",names = ['Cultivator','Alcohal', 'Malic_acid', 'Ash', 'Alcalinity_of_ash', 'Magneium','Total_phenols','Falvanoids','Nonfalvanoids_phenols','Proanthocyanins','Color_intensity','Hue','od280','Proline'])"
   ]
  },
  {
   "cell_type": "code",
   "execution_count": 168,
   "metadata": {},
   "outputs": [
    {
     "data": {
      "text/html": [
       "<div>\n",
       "<table border=\"1\" class=\"dataframe\">\n",
       "  <thead>\n",
       "    <tr style=\"text-align: right;\">\n",
       "      <th></th>\n",
       "      <th>Cultivator</th>\n",
       "      <th>Alcohal</th>\n",
       "      <th>Malic_acid</th>\n",
       "      <th>Ash</th>\n",
       "      <th>Alcalinity_of_ash</th>\n",
       "      <th>Magneium</th>\n",
       "      <th>Total_phenols</th>\n",
       "      <th>Falvanoids</th>\n",
       "      <th>Nonfalvanoids_phenols</th>\n",
       "      <th>Proanthocyanins</th>\n",
       "      <th>Color_intensity</th>\n",
       "      <th>Hue</th>\n",
       "      <th>od280</th>\n",
       "      <th>Proline</th>\n",
       "    </tr>\n",
       "  </thead>\n",
       "  <tbody>\n",
       "    <tr>\n",
       "      <th>0</th>\n",
       "      <td>1</td>\n",
       "      <td>13.20</td>\n",
       "      <td>1.78</td>\n",
       "      <td>2.14</td>\n",
       "      <td>11.2</td>\n",
       "      <td>100</td>\n",
       "      <td>2.65</td>\n",
       "      <td>2.76</td>\n",
       "      <td>0.26</td>\n",
       "      <td>1.28</td>\n",
       "      <td>4.38</td>\n",
       "      <td>1.05</td>\n",
       "      <td>3.40</td>\n",
       "      <td>1050</td>\n",
       "    </tr>\n",
       "    <tr>\n",
       "      <th>1</th>\n",
       "      <td>1</td>\n",
       "      <td>13.16</td>\n",
       "      <td>2.36</td>\n",
       "      <td>2.67</td>\n",
       "      <td>18.6</td>\n",
       "      <td>101</td>\n",
       "      <td>2.80</td>\n",
       "      <td>3.24</td>\n",
       "      <td>0.30</td>\n",
       "      <td>2.81</td>\n",
       "      <td>5.68</td>\n",
       "      <td>1.03</td>\n",
       "      <td>3.17</td>\n",
       "      <td>1185</td>\n",
       "    </tr>\n",
       "    <tr>\n",
       "      <th>2</th>\n",
       "      <td>1</td>\n",
       "      <td>14.37</td>\n",
       "      <td>1.95</td>\n",
       "      <td>2.50</td>\n",
       "      <td>16.8</td>\n",
       "      <td>113</td>\n",
       "      <td>3.85</td>\n",
       "      <td>3.49</td>\n",
       "      <td>0.24</td>\n",
       "      <td>2.18</td>\n",
       "      <td>7.80</td>\n",
       "      <td>0.86</td>\n",
       "      <td>3.45</td>\n",
       "      <td>1480</td>\n",
       "    </tr>\n",
       "    <tr>\n",
       "      <th>3</th>\n",
       "      <td>1</td>\n",
       "      <td>13.24</td>\n",
       "      <td>2.59</td>\n",
       "      <td>2.87</td>\n",
       "      <td>21.0</td>\n",
       "      <td>118</td>\n",
       "      <td>2.80</td>\n",
       "      <td>2.69</td>\n",
       "      <td>0.39</td>\n",
       "      <td>1.82</td>\n",
       "      <td>4.32</td>\n",
       "      <td>1.04</td>\n",
       "      <td>2.93</td>\n",
       "      <td>735</td>\n",
       "    </tr>\n",
       "    <tr>\n",
       "      <th>4</th>\n",
       "      <td>1</td>\n",
       "      <td>14.20</td>\n",
       "      <td>1.76</td>\n",
       "      <td>2.45</td>\n",
       "      <td>15.2</td>\n",
       "      <td>112</td>\n",
       "      <td>3.27</td>\n",
       "      <td>3.39</td>\n",
       "      <td>0.34</td>\n",
       "      <td>1.97</td>\n",
       "      <td>6.75</td>\n",
       "      <td>1.05</td>\n",
       "      <td>2.85</td>\n",
       "      <td>1450</td>\n",
       "    </tr>\n",
       "  </tbody>\n",
       "</table>\n",
       "</div>"
      ],
      "text/plain": [
       "   Cultivator  Alcohal  Malic_acid   Ash  Alcalinity_of_ash  Magneium  \\\n",
       "0           1    13.20        1.78  2.14               11.2       100   \n",
       "1           1    13.16        2.36  2.67               18.6       101   \n",
       "2           1    14.37        1.95  2.50               16.8       113   \n",
       "3           1    13.24        2.59  2.87               21.0       118   \n",
       "4           1    14.20        1.76  2.45               15.2       112   \n",
       "\n",
       "   Total_phenols  Falvanoids  Nonfalvanoids_phenols  Proanthocyanins  \\\n",
       "0           2.65        2.76                   0.26             1.28   \n",
       "1           2.80        3.24                   0.30             2.81   \n",
       "2           3.85        3.49                   0.24             2.18   \n",
       "3           2.80        2.69                   0.39             1.82   \n",
       "4           3.27        3.39                   0.34             1.97   \n",
       "\n",
       "   Color_intensity   Hue  od280  Proline  \n",
       "0             4.38  1.05   3.40     1050  \n",
       "1             5.68  1.03   3.17     1185  \n",
       "2             7.80  0.86   3.45     1480  \n",
       "3             4.32  1.04   2.93      735  \n",
       "4             6.75  1.05   2.85     1450  "
      ]
     },
     "execution_count": 168,
     "metadata": {},
     "output_type": "execute_result"
    }
   ],
   "source": [
    "mywinedata.head()"
   ]
  },
  {
   "cell_type": "code",
   "execution_count": 169,
   "metadata": {},
   "outputs": [
    {
     "data": {
      "text/plain": [
       "Index(['Cultivator', 'Alcohal', 'Malic_acid', 'Ash', 'Alcalinity_of_ash',\n",
       "       'Magneium', 'Total_phenols', 'Falvanoids', 'Nonfalvanoids_phenols',\n",
       "       'Proanthocyanins', 'Color_intensity', 'Hue', 'od280', 'Proline'],\n",
       "      dtype='object')"
      ]
     },
     "execution_count": 169,
     "metadata": {},
     "output_type": "execute_result"
    }
   ],
   "source": [
    "mywinedata.keys()"
   ]
  },
  {
   "cell_type": "code",
   "execution_count": 170,
   "metadata": {},
   "outputs": [
    {
     "data": {
      "text/html": [
       "<div>\n",
       "<table border=\"1\" class=\"dataframe\">\n",
       "  <thead>\n",
       "    <tr style=\"text-align: right;\">\n",
       "      <th></th>\n",
       "      <th>count</th>\n",
       "      <th>mean</th>\n",
       "      <th>std</th>\n",
       "      <th>min</th>\n",
       "      <th>25%</th>\n",
       "      <th>50%</th>\n",
       "      <th>75%</th>\n",
       "      <th>max</th>\n",
       "    </tr>\n",
       "  </thead>\n",
       "  <tbody>\n",
       "    <tr>\n",
       "      <th>Cultivator</th>\n",
       "      <td>177.0</td>\n",
       "      <td>1.943503</td>\n",
       "      <td>0.773991</td>\n",
       "      <td>1.00</td>\n",
       "      <td>1.00</td>\n",
       "      <td>2.00</td>\n",
       "      <td>3.00</td>\n",
       "      <td>3.00</td>\n",
       "    </tr>\n",
       "    <tr>\n",
       "      <th>Alcohal</th>\n",
       "      <td>177.0</td>\n",
       "      <td>12.993672</td>\n",
       "      <td>0.808808</td>\n",
       "      <td>11.03</td>\n",
       "      <td>12.36</td>\n",
       "      <td>13.05</td>\n",
       "      <td>13.67</td>\n",
       "      <td>14.83</td>\n",
       "    </tr>\n",
       "    <tr>\n",
       "      <th>Malic_acid</th>\n",
       "      <td>177.0</td>\n",
       "      <td>2.339887</td>\n",
       "      <td>1.119314</td>\n",
       "      <td>0.74</td>\n",
       "      <td>1.60</td>\n",
       "      <td>1.87</td>\n",
       "      <td>3.10</td>\n",
       "      <td>5.80</td>\n",
       "    </tr>\n",
       "    <tr>\n",
       "      <th>Ash</th>\n",
       "      <td>177.0</td>\n",
       "      <td>2.366158</td>\n",
       "      <td>0.275080</td>\n",
       "      <td>1.36</td>\n",
       "      <td>2.21</td>\n",
       "      <td>2.36</td>\n",
       "      <td>2.56</td>\n",
       "      <td>3.23</td>\n",
       "    </tr>\n",
       "    <tr>\n",
       "      <th>Alcalinity_of_ash</th>\n",
       "      <td>177.0</td>\n",
       "      <td>19.516949</td>\n",
       "      <td>3.336071</td>\n",
       "      <td>10.60</td>\n",
       "      <td>17.20</td>\n",
       "      <td>19.50</td>\n",
       "      <td>21.50</td>\n",
       "      <td>30.00</td>\n",
       "    </tr>\n",
       "    <tr>\n",
       "      <th>Magneium</th>\n",
       "      <td>177.0</td>\n",
       "      <td>99.587571</td>\n",
       "      <td>14.174018</td>\n",
       "      <td>70.00</td>\n",
       "      <td>88.00</td>\n",
       "      <td>98.00</td>\n",
       "      <td>107.00</td>\n",
       "      <td>162.00</td>\n",
       "    </tr>\n",
       "    <tr>\n",
       "      <th>Total_phenols</th>\n",
       "      <td>177.0</td>\n",
       "      <td>2.292260</td>\n",
       "      <td>0.626465</td>\n",
       "      <td>0.98</td>\n",
       "      <td>1.74</td>\n",
       "      <td>2.35</td>\n",
       "      <td>2.80</td>\n",
       "      <td>3.88</td>\n",
       "    </tr>\n",
       "    <tr>\n",
       "      <th>Falvanoids</th>\n",
       "      <td>177.0</td>\n",
       "      <td>2.023446</td>\n",
       "      <td>0.998658</td>\n",
       "      <td>0.34</td>\n",
       "      <td>1.20</td>\n",
       "      <td>2.13</td>\n",
       "      <td>2.86</td>\n",
       "      <td>5.08</td>\n",
       "    </tr>\n",
       "    <tr>\n",
       "      <th>Nonfalvanoids_phenols</th>\n",
       "      <td>177.0</td>\n",
       "      <td>0.362316</td>\n",
       "      <td>0.124653</td>\n",
       "      <td>0.13</td>\n",
       "      <td>0.27</td>\n",
       "      <td>0.34</td>\n",
       "      <td>0.44</td>\n",
       "      <td>0.66</td>\n",
       "    </tr>\n",
       "    <tr>\n",
       "      <th>Proanthocyanins</th>\n",
       "      <td>177.0</td>\n",
       "      <td>1.586949</td>\n",
       "      <td>0.571545</td>\n",
       "      <td>0.41</td>\n",
       "      <td>1.25</td>\n",
       "      <td>1.55</td>\n",
       "      <td>1.95</td>\n",
       "      <td>3.58</td>\n",
       "    </tr>\n",
       "    <tr>\n",
       "      <th>Color_intensity</th>\n",
       "      <td>177.0</td>\n",
       "      <td>5.054802</td>\n",
       "      <td>2.324446</td>\n",
       "      <td>1.28</td>\n",
       "      <td>3.21</td>\n",
       "      <td>4.68</td>\n",
       "      <td>6.20</td>\n",
       "      <td>13.00</td>\n",
       "    </tr>\n",
       "    <tr>\n",
       "      <th>Hue</th>\n",
       "      <td>177.0</td>\n",
       "      <td>0.956983</td>\n",
       "      <td>0.229135</td>\n",
       "      <td>0.48</td>\n",
       "      <td>0.78</td>\n",
       "      <td>0.96</td>\n",
       "      <td>1.12</td>\n",
       "      <td>1.71</td>\n",
       "    </tr>\n",
       "    <tr>\n",
       "      <th>od280</th>\n",
       "      <td>177.0</td>\n",
       "      <td>2.604294</td>\n",
       "      <td>0.705103</td>\n",
       "      <td>1.27</td>\n",
       "      <td>1.93</td>\n",
       "      <td>2.78</td>\n",
       "      <td>3.17</td>\n",
       "      <td>4.00</td>\n",
       "    </tr>\n",
       "    <tr>\n",
       "      <th>Proline</th>\n",
       "      <td>177.0</td>\n",
       "      <td>745.096045</td>\n",
       "      <td>314.884046</td>\n",
       "      <td>278.00</td>\n",
       "      <td>500.00</td>\n",
       "      <td>672.00</td>\n",
       "      <td>985.00</td>\n",
       "      <td>1680.00</td>\n",
       "    </tr>\n",
       "  </tbody>\n",
       "</table>\n",
       "</div>"
      ],
      "text/plain": [
       "                       count        mean         std     min     25%     50%  \\\n",
       "Cultivator             177.0    1.943503    0.773991    1.00    1.00    2.00   \n",
       "Alcohal                177.0   12.993672    0.808808   11.03   12.36   13.05   \n",
       "Malic_acid             177.0    2.339887    1.119314    0.74    1.60    1.87   \n",
       "Ash                    177.0    2.366158    0.275080    1.36    2.21    2.36   \n",
       "Alcalinity_of_ash      177.0   19.516949    3.336071   10.60   17.20   19.50   \n",
       "Magneium               177.0   99.587571   14.174018   70.00   88.00   98.00   \n",
       "Total_phenols          177.0    2.292260    0.626465    0.98    1.74    2.35   \n",
       "Falvanoids             177.0    2.023446    0.998658    0.34    1.20    2.13   \n",
       "Nonfalvanoids_phenols  177.0    0.362316    0.124653    0.13    0.27    0.34   \n",
       "Proanthocyanins        177.0    1.586949    0.571545    0.41    1.25    1.55   \n",
       "Color_intensity        177.0    5.054802    2.324446    1.28    3.21    4.68   \n",
       "Hue                    177.0    0.956983    0.229135    0.48    0.78    0.96   \n",
       "od280                  177.0    2.604294    0.705103    1.27    1.93    2.78   \n",
       "Proline                177.0  745.096045  314.884046  278.00  500.00  672.00   \n",
       "\n",
       "                          75%      max  \n",
       "Cultivator               3.00     3.00  \n",
       "Alcohal                 13.67    14.83  \n",
       "Malic_acid               3.10     5.80  \n",
       "Ash                      2.56     3.23  \n",
       "Alcalinity_of_ash       21.50    30.00  \n",
       "Magneium               107.00   162.00  \n",
       "Total_phenols            2.80     3.88  \n",
       "Falvanoids               2.86     5.08  \n",
       "Nonfalvanoids_phenols    0.44     0.66  \n",
       "Proanthocyanins          1.95     3.58  \n",
       "Color_intensity          6.20    13.00  \n",
       "Hue                      1.12     1.71  \n",
       "od280                    3.17     4.00  \n",
       "Proline                985.00  1680.00  "
      ]
     },
     "execution_count": 170,
     "metadata": {},
     "output_type": "execute_result"
    }
   ],
   "source": [
    "mywinedata.describe().T"
   ]
  },
  {
   "cell_type": "code",
   "execution_count": 171,
   "metadata": {},
   "outputs": [
    {
     "data": {
      "text/html": [
       "<div>\n",
       "<table border=\"1\" class=\"dataframe\">\n",
       "  <thead>\n",
       "    <tr style=\"text-align: right;\">\n",
       "      <th></th>\n",
       "      <th>Cultivator</th>\n",
       "      <th>Alcohal</th>\n",
       "      <th>Malic_acid</th>\n",
       "      <th>Ash</th>\n",
       "      <th>Alcalinity_of_ash</th>\n",
       "      <th>Magneium</th>\n",
       "      <th>Total_phenols</th>\n",
       "      <th>Falvanoids</th>\n",
       "      <th>Nonfalvanoids_phenols</th>\n",
       "      <th>Proanthocyanins</th>\n",
       "      <th>Color_intensity</th>\n",
       "      <th>Hue</th>\n",
       "      <th>od280</th>\n",
       "      <th>Proline</th>\n",
       "    </tr>\n",
       "  </thead>\n",
       "  <tbody>\n",
       "    <tr>\n",
       "      <th>Cultivator</th>\n",
       "      <td>1.000000</td>\n",
       "      <td>-0.321238</td>\n",
       "      <td>0.436127</td>\n",
       "      <td>-0.048260</td>\n",
       "      <td>0.513963</td>\n",
       "      <td>-0.198944</td>\n",
       "      <td>-0.717933</td>\n",
       "      <td>-0.846485</td>\n",
       "      <td>0.487215</td>\n",
       "      <td>-0.494887</td>\n",
       "      <td>0.268562</td>\n",
       "      <td>-0.617690</td>\n",
       "      <td>-0.786428</td>\n",
       "      <td>-0.631227</td>\n",
       "    </tr>\n",
       "    <tr>\n",
       "      <th>Alcohal</th>\n",
       "      <td>-0.321238</td>\n",
       "      <td>1.000000</td>\n",
       "      <td>0.099963</td>\n",
       "      <td>0.210964</td>\n",
       "      <td>-0.303350</td>\n",
       "      <td>0.258742</td>\n",
       "      <td>0.284543</td>\n",
       "      <td>0.230133</td>\n",
       "      <td>-0.151445</td>\n",
       "      <td>0.127561</td>\n",
       "      <td>0.547883</td>\n",
       "      <td>-0.075375</td>\n",
       "      <td>0.057417</td>\n",
       "      <td>0.641068</td>\n",
       "    </tr>\n",
       "    <tr>\n",
       "      <th>Malic_acid</th>\n",
       "      <td>0.436127</td>\n",
       "      <td>0.099963</td>\n",
       "      <td>1.000000</td>\n",
       "      <td>0.164955</td>\n",
       "      <td>0.286148</td>\n",
       "      <td>-0.049049</td>\n",
       "      <td>-0.333512</td>\n",
       "      <td>-0.409324</td>\n",
       "      <td>0.291501</td>\n",
       "      <td>-0.217975</td>\n",
       "      <td>0.250053</td>\n",
       "      <td>-0.560854</td>\n",
       "      <td>-0.366720</td>\n",
       "      <td>-0.189512</td>\n",
       "    </tr>\n",
       "    <tr>\n",
       "      <th>Ash</th>\n",
       "      <td>-0.048260</td>\n",
       "      <td>0.210964</td>\n",
       "      <td>0.164955</td>\n",
       "      <td>1.000000</td>\n",
       "      <td>0.446698</td>\n",
       "      <td>0.287107</td>\n",
       "      <td>0.128176</td>\n",
       "      <td>0.114084</td>\n",
       "      <td>0.187354</td>\n",
       "      <td>0.008082</td>\n",
       "      <td>0.258643</td>\n",
       "      <td>-0.075181</td>\n",
       "      <td>0.001503</td>\n",
       "      <td>0.222979</td>\n",
       "    </tr>\n",
       "    <tr>\n",
       "      <th>Alcalinity_of_ash</th>\n",
       "      <td>0.513963</td>\n",
       "      <td>-0.303350</td>\n",
       "      <td>0.286148</td>\n",
       "      <td>0.446698</td>\n",
       "      <td>1.000000</td>\n",
       "      <td>-0.071707</td>\n",
       "      <td>-0.317583</td>\n",
       "      <td>-0.346922</td>\n",
       "      <td>0.359395</td>\n",
       "      <td>-0.190779</td>\n",
       "      <td>0.020478</td>\n",
       "      <td>-0.272719</td>\n",
       "      <td>-0.268186</td>\n",
       "      <td>-0.436858</td>\n",
       "    </tr>\n",
       "    <tr>\n",
       "      <th>Magneium</th>\n",
       "      <td>-0.198944</td>\n",
       "      <td>0.258742</td>\n",
       "      <td>-0.049049</td>\n",
       "      <td>0.287107</td>\n",
       "      <td>-0.071707</td>\n",
       "      <td>1.000000</td>\n",
       "      <td>0.208200</td>\n",
       "      <td>0.187101</td>\n",
       "      <td>-0.252091</td>\n",
       "      <td>0.226504</td>\n",
       "      <td>0.199337</td>\n",
       "      <td>0.052042</td>\n",
       "      <td>0.046961</td>\n",
       "      <td>0.387542</td>\n",
       "    </tr>\n",
       "    <tr>\n",
       "      <th>Total_phenols</th>\n",
       "      <td>-0.717933</td>\n",
       "      <td>0.284543</td>\n",
       "      <td>-0.333512</td>\n",
       "      <td>0.128176</td>\n",
       "      <td>-0.317583</td>\n",
       "      <td>0.208200</td>\n",
       "      <td>1.000000</td>\n",
       "      <td>0.864046</td>\n",
       "      <td>-0.448301</td>\n",
       "      <td>0.610533</td>\n",
       "      <td>-0.056401</td>\n",
       "      <td>0.432987</td>\n",
       "      <td>0.699566</td>\n",
       "      <td>0.495839</td>\n",
       "    </tr>\n",
       "    <tr>\n",
       "      <th>Falvanoids</th>\n",
       "      <td>-0.846485</td>\n",
       "      <td>0.230133</td>\n",
       "      <td>-0.409324</td>\n",
       "      <td>0.114084</td>\n",
       "      <td>-0.346922</td>\n",
       "      <td>0.187101</td>\n",
       "      <td>0.864046</td>\n",
       "      <td>1.000000</td>\n",
       "      <td>-0.536326</td>\n",
       "      <td>0.650254</td>\n",
       "      <td>-0.174411</td>\n",
       "      <td>0.543208</td>\n",
       "      <td>0.786372</td>\n",
       "      <td>0.491180</td>\n",
       "    </tr>\n",
       "    <tr>\n",
       "      <th>Nonfalvanoids_phenols</th>\n",
       "      <td>0.487215</td>\n",
       "      <td>-0.151445</td>\n",
       "      <td>0.291501</td>\n",
       "      <td>0.187354</td>\n",
       "      <td>0.359395</td>\n",
       "      <td>-0.252091</td>\n",
       "      <td>-0.448301</td>\n",
       "      <td>-0.536326</td>\n",
       "      <td>1.000000</td>\n",
       "      <td>-0.363268</td>\n",
       "      <td>0.140192</td>\n",
       "      <td>-0.261709</td>\n",
       "      <td>-0.501859</td>\n",
       "      <td>-0.308886</td>\n",
       "    </tr>\n",
       "    <tr>\n",
       "      <th>Proanthocyanins</th>\n",
       "      <td>-0.494887</td>\n",
       "      <td>0.127561</td>\n",
       "      <td>-0.217975</td>\n",
       "      <td>0.008082</td>\n",
       "      <td>-0.190779</td>\n",
       "      <td>0.226504</td>\n",
       "      <td>0.610533</td>\n",
       "      <td>0.650254</td>\n",
       "      <td>-0.363268</td>\n",
       "      <td>1.000000</td>\n",
       "      <td>-0.027112</td>\n",
       "      <td>0.294397</td>\n",
       "      <td>0.513415</td>\n",
       "      <td>0.325731</td>\n",
       "    </tr>\n",
       "    <tr>\n",
       "      <th>Color_intensity</th>\n",
       "      <td>0.268562</td>\n",
       "      <td>0.547883</td>\n",
       "      <td>0.250053</td>\n",
       "      <td>0.258643</td>\n",
       "      <td>0.020478</td>\n",
       "      <td>0.199337</td>\n",
       "      <td>-0.056401</td>\n",
       "      <td>-0.174411</td>\n",
       "      <td>0.140192</td>\n",
       "      <td>-0.027112</td>\n",
       "      <td>1.000000</td>\n",
       "      <td>-0.522615</td>\n",
       "      <td>-0.435744</td>\n",
       "      <td>0.315632</td>\n",
       "    </tr>\n",
       "    <tr>\n",
       "      <th>Hue</th>\n",
       "      <td>-0.617690</td>\n",
       "      <td>-0.075375</td>\n",
       "      <td>-0.560854</td>\n",
       "      <td>-0.075181</td>\n",
       "      <td>-0.272719</td>\n",
       "      <td>0.052042</td>\n",
       "      <td>0.432987</td>\n",
       "      <td>0.543208</td>\n",
       "      <td>-0.261709</td>\n",
       "      <td>0.294397</td>\n",
       "      <td>-0.522615</td>\n",
       "      <td>1.000000</td>\n",
       "      <td>0.567395</td>\n",
       "      <td>0.234879</td>\n",
       "    </tr>\n",
       "    <tr>\n",
       "      <th>od280</th>\n",
       "      <td>-0.786428</td>\n",
       "      <td>0.057417</td>\n",
       "      <td>-0.366720</td>\n",
       "      <td>0.001503</td>\n",
       "      <td>-0.268186</td>\n",
       "      <td>0.046961</td>\n",
       "      <td>0.699566</td>\n",
       "      <td>0.786372</td>\n",
       "      <td>-0.501859</td>\n",
       "      <td>0.513415</td>\n",
       "      <td>-0.435744</td>\n",
       "      <td>0.567395</td>\n",
       "      <td>1.000000</td>\n",
       "      <td>0.306031</td>\n",
       "    </tr>\n",
       "    <tr>\n",
       "      <th>Proline</th>\n",
       "      <td>-0.631227</td>\n",
       "      <td>0.641068</td>\n",
       "      <td>-0.189512</td>\n",
       "      <td>0.222979</td>\n",
       "      <td>-0.436858</td>\n",
       "      <td>0.387542</td>\n",
       "      <td>0.495839</td>\n",
       "      <td>0.491180</td>\n",
       "      <td>-0.308886</td>\n",
       "      <td>0.325731</td>\n",
       "      <td>0.315632</td>\n",
       "      <td>0.234879</td>\n",
       "      <td>0.306031</td>\n",
       "      <td>1.000000</td>\n",
       "    </tr>\n",
       "  </tbody>\n",
       "</table>\n",
       "</div>"
      ],
      "text/plain": [
       "                       Cultivator   Alcohal  Malic_acid       Ash  \\\n",
       "Cultivator               1.000000 -0.321238    0.436127 -0.048260   \n",
       "Alcohal                 -0.321238  1.000000    0.099963  0.210964   \n",
       "Malic_acid               0.436127  0.099963    1.000000  0.164955   \n",
       "Ash                     -0.048260  0.210964    0.164955  1.000000   \n",
       "Alcalinity_of_ash        0.513963 -0.303350    0.286148  0.446698   \n",
       "Magneium                -0.198944  0.258742   -0.049049  0.287107   \n",
       "Total_phenols           -0.717933  0.284543   -0.333512  0.128176   \n",
       "Falvanoids              -0.846485  0.230133   -0.409324  0.114084   \n",
       "Nonfalvanoids_phenols    0.487215 -0.151445    0.291501  0.187354   \n",
       "Proanthocyanins         -0.494887  0.127561   -0.217975  0.008082   \n",
       "Color_intensity          0.268562  0.547883    0.250053  0.258643   \n",
       "Hue                     -0.617690 -0.075375   -0.560854 -0.075181   \n",
       "od280                   -0.786428  0.057417   -0.366720  0.001503   \n",
       "Proline                 -0.631227  0.641068   -0.189512  0.222979   \n",
       "\n",
       "                       Alcalinity_of_ash  Magneium  Total_phenols  Falvanoids  \\\n",
       "Cultivator                      0.513963 -0.198944      -0.717933   -0.846485   \n",
       "Alcohal                        -0.303350  0.258742       0.284543    0.230133   \n",
       "Malic_acid                      0.286148 -0.049049      -0.333512   -0.409324   \n",
       "Ash                             0.446698  0.287107       0.128176    0.114084   \n",
       "Alcalinity_of_ash               1.000000 -0.071707      -0.317583   -0.346922   \n",
       "Magneium                       -0.071707  1.000000       0.208200    0.187101   \n",
       "Total_phenols                  -0.317583  0.208200       1.000000    0.864046   \n",
       "Falvanoids                     -0.346922  0.187101       0.864046    1.000000   \n",
       "Nonfalvanoids_phenols           0.359395 -0.252091      -0.448301   -0.536326   \n",
       "Proanthocyanins                -0.190779  0.226504       0.610533    0.650254   \n",
       "Color_intensity                 0.020478  0.199337      -0.056401   -0.174411   \n",
       "Hue                            -0.272719  0.052042       0.432987    0.543208   \n",
       "od280                          -0.268186  0.046961       0.699566    0.786372   \n",
       "Proline                        -0.436858  0.387542       0.495839    0.491180   \n",
       "\n",
       "                       Nonfalvanoids_phenols  Proanthocyanins  \\\n",
       "Cultivator                          0.487215        -0.494887   \n",
       "Alcohal                            -0.151445         0.127561   \n",
       "Malic_acid                          0.291501        -0.217975   \n",
       "Ash                                 0.187354         0.008082   \n",
       "Alcalinity_of_ash                   0.359395        -0.190779   \n",
       "Magneium                           -0.252091         0.226504   \n",
       "Total_phenols                      -0.448301         0.610533   \n",
       "Falvanoids                         -0.536326         0.650254   \n",
       "Nonfalvanoids_phenols               1.000000        -0.363268   \n",
       "Proanthocyanins                    -0.363268         1.000000   \n",
       "Color_intensity                     0.140192        -0.027112   \n",
       "Hue                                -0.261709         0.294397   \n",
       "od280                              -0.501859         0.513415   \n",
       "Proline                            -0.308886         0.325731   \n",
       "\n",
       "                       Color_intensity       Hue     od280   Proline  \n",
       "Cultivator                    0.268562 -0.617690 -0.786428 -0.631227  \n",
       "Alcohal                       0.547883 -0.075375  0.057417  0.641068  \n",
       "Malic_acid                    0.250053 -0.560854 -0.366720 -0.189512  \n",
       "Ash                           0.258643 -0.075181  0.001503  0.222979  \n",
       "Alcalinity_of_ash             0.020478 -0.272719 -0.268186 -0.436858  \n",
       "Magneium                      0.199337  0.052042  0.046961  0.387542  \n",
       "Total_phenols                -0.056401  0.432987  0.699566  0.495839  \n",
       "Falvanoids                   -0.174411  0.543208  0.786372  0.491180  \n",
       "Nonfalvanoids_phenols         0.140192 -0.261709 -0.501859 -0.308886  \n",
       "Proanthocyanins              -0.027112  0.294397  0.513415  0.325731  \n",
       "Color_intensity               1.000000 -0.522615 -0.435744  0.315632  \n",
       "Hue                          -0.522615  1.000000  0.567395  0.234879  \n",
       "od280                        -0.435744  0.567395  1.000000  0.306031  \n",
       "Proline                       0.315632  0.234879  0.306031  1.000000  "
      ]
     },
     "execution_count": 171,
     "metadata": {},
     "output_type": "execute_result"
    }
   ],
   "source": [
    "mywinedata.corr()"
   ]
  },
  {
   "cell_type": "code",
   "execution_count": 172,
   "metadata": {},
   "outputs": [
    {
     "data": {
      "image/png": "[encoded data removed]",
      "text/plain": [
       "<matplotlib.figure.Figure at 0x28a202722b0>"
      ]
     },
     "metadata": {},
     "output_type": "display_data"
    }
   ],
   "source": [
    "mywinedata.hist(bins=50)\n",
    "plt.show()"
   ]
  },
  {
   "cell_type": "code",
   "execution_count": 173,
   "metadata": {},
   "outputs": [
    {
     "data": {
      "text/html": [
       "<div>\n",
       "<table border=\"1\" class=\"dataframe\">\n",
       "  <thead>\n",
       "    <tr style=\"text-align: right;\">\n",
       "      <th></th>\n",
       "      <th>Cultivator</th>\n",
       "      <th>Alcohal</th>\n",
       "      <th>Malic_acid</th>\n",
       "      <th>Ash</th>\n",
       "      <th>Alcalinity_of_ash</th>\n",
       "      <th>Magneium</th>\n",
       "      <th>Total_phenols</th>\n",
       "      <th>Falvanoids</th>\n",
       "      <th>Nonfalvanoids_phenols</th>\n",
       "      <th>Proanthocyanins</th>\n",
       "      <th>Color_intensity</th>\n",
       "      <th>Hue</th>\n",
       "      <th>od280</th>\n",
       "      <th>Proline</th>\n",
       "    </tr>\n",
       "  </thead>\n",
       "  <tbody>\n",
       "    <tr>\n",
       "      <th>0</th>\n",
       "      <td>1</td>\n",
       "      <td>13.2</td>\n",
       "      <td>1.78</td>\n",
       "      <td>2.14</td>\n",
       "      <td>11.2</td>\n",
       "      <td>100</td>\n",
       "      <td>2.65</td>\n",
       "      <td>2.76</td>\n",
       "      <td>0.26</td>\n",
       "      <td>1.28</td>\n",
       "      <td>4.38</td>\n",
       "      <td>1.05</td>\n",
       "      <td>3.4</td>\n",
       "      <td>1050</td>\n",
       "    </tr>\n",
       "  </tbody>\n",
       "</table>\n",
       "</div>"
      ],
      "text/plain": [
       "   Cultivator  Alcohal  Malic_acid   Ash  Alcalinity_of_ash  Magneium  \\\n",
       "0           1     13.2        1.78  2.14               11.2       100   \n",
       "\n",
       "   Total_phenols  Falvanoids  Nonfalvanoids_phenols  Proanthocyanins  \\\n",
       "0           2.65        2.76                   0.26             1.28   \n",
       "\n",
       "   Color_intensity   Hue  od280  Proline  \n",
       "0             4.38  1.05    3.4     1050  "
      ]
     },
     "execution_count": 173,
     "metadata": {},
     "output_type": "execute_result"
    }
   ],
   "source": [
    "mywinedata.head(1)"
   ]
  },
  {
   "cell_type": "markdown",
   "metadata": {},
   "source": [
    "# seperate input from output"
   ]
  },
  {
   "cell_type": "code",
   "execution_count": 174,
   "metadata": {
    "collapsed": true
   },
   "outputs": [],
   "source": [
    "x_input = mywinedata.drop(\"Cultivator\",axis=1)\n",
    "y_output = mywinedata[\"Cultivator\"]"
   ]
  },
  {
   "cell_type": "code",
   "execution_count": 175,
   "metadata": {},
   "outputs": [
    {
     "data": {
      "text/html": [
       "<div>\n",
       "<table border=\"1\" class=\"dataframe\">\n",
       "  <thead>\n",
       "    <tr style=\"text-align: right;\">\n",
       "      <th></th>\n",
       "      <th>Alcohal</th>\n",
       "      <th>Malic_acid</th>\n",
       "      <th>Ash</th>\n",
       "      <th>Alcalinity_of_ash</th>\n",
       "      <th>Magneium</th>\n",
       "      <th>Total_phenols</th>\n",
       "      <th>Falvanoids</th>\n",
       "      <th>Nonfalvanoids_phenols</th>\n",
       "      <th>Proanthocyanins</th>\n",
       "      <th>Color_intensity</th>\n",
       "      <th>Hue</th>\n",
       "      <th>od280</th>\n",
       "      <th>Proline</th>\n",
       "    </tr>\n",
       "  </thead>\n",
       "  <tbody>\n",
       "    <tr>\n",
       "      <th>0</th>\n",
       "      <td>13.20</td>\n",
       "      <td>1.78</td>\n",
       "      <td>2.14</td>\n",
       "      <td>11.2</td>\n",
       "      <td>100</td>\n",
       "      <td>2.65</td>\n",
       "      <td>2.76</td>\n",
       "      <td>0.26</td>\n",
       "      <td>1.28</td>\n",
       "      <td>4.38</td>\n",
       "      <td>1.05</td>\n",
       "      <td>3.40</td>\n",
       "      <td>1050</td>\n",
       "    </tr>\n",
       "    <tr>\n",
       "      <th>1</th>\n",
       "      <td>13.16</td>\n",
       "      <td>2.36</td>\n",
       "      <td>2.67</td>\n",
       "      <td>18.6</td>\n",
       "      <td>101</td>\n",
       "      <td>2.80</td>\n",
       "      <td>3.24</td>\n",
       "      <td>0.30</td>\n",
       "      <td>2.81</td>\n",
       "      <td>5.68</td>\n",
       "      <td>1.03</td>\n",
       "      <td>3.17</td>\n",
       "      <td>1185</td>\n",
       "    </tr>\n",
       "    <tr>\n",
       "      <th>2</th>\n",
       "      <td>14.37</td>\n",
       "      <td>1.95</td>\n",
       "      <td>2.50</td>\n",
       "      <td>16.8</td>\n",
       "      <td>113</td>\n",
       "      <td>3.85</td>\n",
       "      <td>3.49</td>\n",
       "      <td>0.24</td>\n",
       "      <td>2.18</td>\n",
       "      <td>7.80</td>\n",
       "      <td>0.86</td>\n",
       "      <td>3.45</td>\n",
       "      <td>1480</td>\n",
       "    </tr>\n",
       "    <tr>\n",
       "      <th>3</th>\n",
       "      <td>13.24</td>\n",
       "      <td>2.59</td>\n",
       "      <td>2.87</td>\n",
       "      <td>21.0</td>\n",
       "      <td>118</td>\n",
       "      <td>2.80</td>\n",
       "      <td>2.69</td>\n",
       "      <td>0.39</td>\n",
       "      <td>1.82</td>\n",
       "      <td>4.32</td>\n",
       "      <td>1.04</td>\n",
       "      <td>2.93</td>\n",
       "      <td>735</td>\n",
       "    </tr>\n",
       "    <tr>\n",
       "      <th>4</th>\n",
       "      <td>14.20</td>\n",
       "      <td>1.76</td>\n",
       "      <td>2.45</td>\n",
       "      <td>15.2</td>\n",
       "      <td>112</td>\n",
       "      <td>3.27</td>\n",
       "      <td>3.39</td>\n",
       "      <td>0.34</td>\n",
       "      <td>1.97</td>\n",
       "      <td>6.75</td>\n",
       "      <td>1.05</td>\n",
       "      <td>2.85</td>\n",
       "      <td>1450</td>\n",
       "    </tr>\n",
       "  </tbody>\n",
       "</table>\n",
       "</div>"
      ],
      "text/plain": [
       "   Alcohal  Malic_acid   Ash  Alcalinity_of_ash  Magneium  Total_phenols  \\\n",
       "0    13.20        1.78  2.14               11.2       100           2.65   \n",
       "1    13.16        2.36  2.67               18.6       101           2.80   \n",
       "2    14.37        1.95  2.50               16.8       113           3.85   \n",
       "3    13.24        2.59  2.87               21.0       118           2.80   \n",
       "4    14.20        1.76  2.45               15.2       112           3.27   \n",
       "\n",
       "   Falvanoids  Nonfalvanoids_phenols  Proanthocyanins  Color_intensity   Hue  \\\n",
       "0        2.76                   0.26             1.28             4.38  1.05   \n",
       "1        3.24                   0.30             2.81             5.68  1.03   \n",
       "2        3.49                   0.24             2.18             7.80  0.86   \n",
       "3        2.69                   0.39             1.82             4.32  1.04   \n",
       "4        3.39                   0.34             1.97             6.75  1.05   \n",
       "\n",
       "   od280  Proline  \n",
       "0   3.40     1050  \n",
       "1   3.17     1185  \n",
       "2   3.45     1480  \n",
       "3   2.93      735  \n",
       "4   2.85     1450  "
      ]
     },
     "execution_count": 175,
     "metadata": {},
     "output_type": "execute_result"
    }
   ],
   "source": [
    "x_input.head()"
   ]
  },
  {
   "cell_type": "code",
   "execution_count": 176,
   "metadata": {},
   "outputs": [
    {
     "name": "stdout",
     "output_type": "stream",
     "text": [
      "type of x_input <class 'pandas.core.frame.DataFrame'> and type of y_output <class 'pandas.core.series.Series'>\n"
     ]
    }
   ],
   "source": [
    "print(\"type of x_input {} and type of y_output {}\".format(type(x_input),type(y_output)))"
   ]
  },
  {
   "cell_type": "markdown",
   "metadata": {},
   "source": [
    "# split the data in training and testing"
   ]
  },
  {
   "cell_type": "code",
   "execution_count": 177,
   "metadata": {
    "collapsed": true
   },
   "outputs": [],
   "source": [
    "from sklearn.model_selection import train_test_split"
   ]
  },
  {
   "cell_type": "code",
   "execution_count": 178,
   "metadata": {},
   "outputs": [],
   "source": [
    "x_train,x_test,y_train,y_test =train_test_split(x_input,y_output,test_size=.30)"
   ]
  },
  {
   "cell_type": "code",
   "execution_count": 179,
   "metadata": {},
   "outputs": [
    {
     "name": "stdout",
     "output_type": "stream",
     "text": [
      "shape of x_train is 123 and x_test is 54\n"
     ]
    }
   ],
   "source": [
    "print(\"shape of x_train is {} and x_test is {}\".format(len(x_train),len(x_test)))"
   ]
  },
  {
   "cell_type": "code",
   "execution_count": 180,
   "metadata": {},
   "outputs": [
    {
     "name": "stdout",
     "output_type": "stream",
     "text": [
      "shape of y_train is 123 and y_test is 54\n"
     ]
    }
   ],
   "source": [
    "print(\"shape of y_train is {} and y_test is {}\".format(len(y_train),len(y_test)))"
   ]
  },
  {
   "cell_type": "code",
   "execution_count": 181,
   "metadata": {
    "collapsed": true
   },
   "outputs": [],
   "source": [
    "from sklearn.preprocessing import StandardScaler"
   ]
  },
  {
   "cell_type": "code",
   "execution_count": 182,
   "metadata": {
    "collapsed": true
   },
   "outputs": [],
   "source": [
    "mysacalr = StandardScaler()"
   ]
  },
  {
   "cell_type": "code",
   "execution_count": 183,
   "metadata": {},
   "outputs": [
    {
     "data": {
      "text/plain": [
       "StandardScaler(copy=True, with_mean=True, with_std=True)"
      ]
     },
     "execution_count": 183,
     "metadata": {},
     "output_type": "execute_result"
    }
   ],
   "source": [
    "mysacalr.fit(x_train)"
   ]
  },
  {
   "cell_type": "code",
   "execution_count": 184,
   "metadata": {},
   "outputs": [
    {
     "data": {
      "text/plain": [
       "pandas.core.frame.DataFrame"
      ]
     },
     "execution_count": 184,
     "metadata": {},
     "output_type": "execute_result"
    }
   ],
   "source": [
    "type(x_train)"
   ]
  },
  {
   "cell_type": "markdown",
   "metadata": {},
   "source": [
    "# change pandas to numpy"
   ]
  },
  {
   "cell_type": "code",
   "execution_count": 185,
   "metadata": {},
   "outputs": [
    {
     "data": {
      "text/plain": [
       "numpy.ndarray"
      ]
     },
     "execution_count": 185,
     "metadata": {},
     "output_type": "execute_result"
    }
   ],
   "source": [
    "x_train = mysacalr.transform(x_train)\n",
    "type(x_train)"
   ]
  },
  {
   "cell_type": "code",
   "execution_count": 186,
   "metadata": {},
   "outputs": [
    {
     "data": {
      "text/plain": [
       "numpy.ndarray"
      ]
     },
     "execution_count": 186,
     "metadata": {},
     "output_type": "execute_result"
    }
   ],
   "source": [
    "mysacalr.fit(x_test)\n",
    "x_test = mysacalr.transform(x_test)\n",
    "type(x_test)"
   ]
  },
  {
   "cell_type": "code",
   "execution_count": 187,
   "metadata": {},
   "outputs": [
    {
     "name": "stdout",
     "output_type": "stream",
     "text": [
      "mean is 0.0 and std is 1.0\n"
     ]
    }
   ],
   "source": [
    "m = abs(round(x_train.mean()))\n",
    "s = x_train.std()\n",
    "print(\"mean is {} and std is {}\".format(m,s))"
   ]
  },
  {
   "cell_type": "code",
   "execution_count": 188,
   "metadata": {},
   "outputs": [
    {
     "name": "stdout",
     "output_type": "stream",
     "text": [
      "mean is 0.0 and std is 1.0\n"
     ]
    }
   ],
   "source": [
    "m1 = abs(round(x_test.mean()))\n",
    "s1 = x_train.std()\n",
    "print(\"mean is {} and std is {}\".format(m1,s1))"
   ]
  },
  {
   "cell_type": "markdown",
   "metadata": {},
   "source": [
    "# total numbe of class"
   ]
  },
  {
   "cell_type": "code",
   "execution_count": 189,
   "metadata": {
    "collapsed": true
   },
   "outputs": [],
   "source": [
    "import numpy as np"
   ]
  },
  {
   "cell_type": "code",
   "execution_count": 190,
   "metadata": {},
   "outputs": [
    {
     "data": {
      "text/plain": [
       "array([1, 2, 3], dtype=int64)"
      ]
     },
     "execution_count": 190,
     "metadata": {},
     "output_type": "execute_result"
    }
   ],
   "source": [
    "np.unique(y_output)"
   ]
  },
  {
   "cell_type": "markdown",
   "metadata": {},
   "source": [
    "# Neural Network model"
   ]
  },
  {
   "cell_type": "code",
   "execution_count": 191,
   "metadata": {
    "collapsed": true
   },
   "outputs": [],
   "source": [
    "from sklearn.neural_network import MLPClassifier"
   ]
  },
  {
   "cell_type": "code",
   "execution_count": 240,
   "metadata": {
    "collapsed": true
   },
   "outputs": [],
   "source": [
    "Trainer = MLPClassifier(hidden_layer_sizes=(13,13,13),activation='relu',max_iter=4000)"
   ]
  },
  {
   "cell_type": "code",
   "execution_count": 241,
   "metadata": {},
   "outputs": [],
   "source": [
    "learner = Trainer.fit(x_train,y_train)"
   ]
  },
  {
   "cell_type": "markdown",
   "metadata": {},
   "source": [
    "# Testing"
   ]
  },
  {
   "cell_type": "code",
   "execution_count": 242,
   "metadata": {
    "collapsed": true
   },
   "outputs": [],
   "source": [
    "yp = learner.predict(x_test)\n",
    "ya = y_test"
   ]
  },
  {
   "cell_type": "code",
   "execution_count": 243,
   "metadata": {
    "collapsed": true
   },
   "outputs": [],
   "source": [
    "yplist = list(yp)\n",
    "yalist = list(ya)"
   ]
  },
  {
   "cell_type": "code",
   "execution_count": 244,
   "metadata": {},
   "outputs": [],
   "source": [
    "table = pd.DataFrame({\"ya\":yalist,\"yp\":yplist})"
   ]
  },
  {
   "cell_type": "code",
   "execution_count": 245,
   "metadata": {},
   "outputs": [
    {
     "data": {
      "text/html": [
       "<div>\n",
       "<table border=\"1\" class=\"dataframe\">\n",
       "  <thead>\n",
       "    <tr style=\"text-align: right;\">\n",
       "      <th></th>\n",
       "      <th>ya</th>\n",
       "      <th>yp</th>\n",
       "    </tr>\n",
       "  </thead>\n",
       "  <tbody>\n",
       "    <tr>\n",
       "      <th>0</th>\n",
       "      <td>2</td>\n",
       "      <td>2</td>\n",
       "    </tr>\n",
       "  </tbody>\n",
       "</table>\n",
       "</div>"
      ],
      "text/plain": [
       "   ya  yp\n",
       "0   2   2"
      ]
     },
     "execution_count": 245,
     "metadata": {},
     "output_type": "execute_result"
    }
   ],
   "source": [
    "table[:1]"
   ]
  },
  {
   "cell_type": "code",
   "execution_count": 246,
   "metadata": {},
   "outputs": [],
   "source": [
    "from sklearn.metrics import accuracy_score,jaccard_similarity_score,confusion_matrix,classification_report"
   ]
  },
  {
   "cell_type": "code",
   "execution_count": 247,
   "metadata": {},
   "outputs": [],
   "source": [
    "acc = accuracy_score(yp,ya)\n",
    "jss = jaccard_similarity_score(yp,ya)"
   ]
  },
  {
   "cell_type": "code",
   "execution_count": 248,
   "metadata": {},
   "outputs": [
    {
     "name": "stdout",
     "output_type": "stream",
     "text": [
      "Acc is 0.9814814814814815 and jss is 0.9814814814814815\n"
     ]
    }
   ],
   "source": [
    "print(\"Acc is {} and jss is {}\".format(acc,jss))"
   ]
  },
  {
   "cell_type": "code",
   "execution_count": 249,
   "metadata": {},
   "outputs": [
    {
     "name": "stdout",
     "output_type": "stream",
     "text": [
      "[[17  1  0]\n",
      " [ 0 23  0]\n",
      " [ 0  0 13]]\n"
     ]
    }
   ],
   "source": [
    "cm = confusion_matrix(ya,yp)\n",
    "print(cm)"
   ]
  },
  {
   "cell_type": "code",
   "execution_count": 250,
   "metadata": {},
   "outputs": [
    {
     "name": "stdout",
     "output_type": "stream",
     "text": [
      "             precision    recall  f1-score   support\n",
      "\n",
      "          1       1.00      0.94      0.97        18\n",
      "          2       0.96      1.00      0.98        23\n",
      "          3       1.00      1.00      1.00        13\n",
      "\n",
      "avg / total       0.98      0.98      0.98        54\n",
      "\n"
     ]
    }
   ],
   "source": [
    "report = classification_report(ya,yp)\n",
    "print(report)"
   ]
  },
  {
   "cell_type": "code",
   "execution_count": 251,
   "metadata": {},
   "outputs": [
    {
     "data": {
      "text/plain": [
       "4"
      ]
     },
     "execution_count": 251,
     "metadata": {},
     "output_type": "execute_result"
    }
   ],
   "source": [
    "len(learner.intercepts_)"
   ]
  },
  {
   "cell_type": "code",
   "execution_count": 252,
   "metadata": {},
   "outputs": [
    {
     "data": {
      "text/plain": [
       "[array([-0.05020704, -0.48442979, -0.06550047,  0.52363121, -0.08278278,\n",
       "        -0.34123043, -0.09177154,  0.26180887, -0.04673336,  0.14963977,\n",
       "         0.12971698, -0.07001759,  0.3097811 ]),\n",
       " array([ 0.17082021,  0.51565803,  0.39878562, -0.11737276,  0.13978074,\n",
       "         0.21807948,  0.27967815, -0.2542156 ,  0.26175866,  0.3007966 ,\n",
       "         0.10983117, -0.37655923, -0.03543597]),\n",
       " array([-0.25865579, -0.39355557, -0.1821609 ,  0.12645501,  0.26808112,\n",
       "        -0.11665275,  0.08165699,  0.45816336,  0.25999264,  0.02289633,\n",
       "        -0.1255737 ,  0.21351753,  0.03708756]),\n",
       " array([ 0.19226446,  0.57492358,  0.37294388])]"
      ]
     },
     "execution_count": 252,
     "metadata": {},
     "output_type": "execute_result"
    }
   ],
   "source": [
    "learner.intercepts_"
   ]
  },
  {
   "cell_type": "code",
   "execution_count": 253,
   "metadata": {
    "collapsed": true
   },
   "outputs": [],
   "source": [
    "\n",
    "l1 = learner.intercepts_[3]\n",
    "lb = learner.coefs_[3]"
   ]
  },
  {
   "cell_type": "code",
   "execution_count": 254,
   "metadata": {},
   "outputs": [
    {
     "name": "stdout",
     "output_type": "stream",
     "text": [
      "nn w and { and w  4 4\n",
      "bias 3 and w 13\n"
     ]
    }
   ],
   "source": [
    "print(\"nn w and { and w \",len(learner.intercepts_),len(learner.coefs_))\n",
    "print(\"bias {} and w {}\".format(len(l1),len(lb)))"
   ]
  },
  {
   "cell_type": "code",
   "execution_count": 255,
   "metadata": {},
   "outputs": [
    {
     "data": {
      "text/plain": [
       "3"
      ]
     },
     "execution_count": 255,
     "metadata": {},
     "output_type": "execute_result"
    }
   ],
   "source": [
    "len(l1)"
   ]
  },
  {
   "cell_type": "code",
   "execution_count": 256,
   "metadata": {
    "collapsed": true
   },
   "outputs": [],
   "source": [
    "lb = learner.intercepts_[3]\n",
    "lw = learner.coefs_[3]"
   ]
  },
  {
   "cell_type": "code",
   "execution_count": 257,
   "metadata": {},
   "outputs": [
    {
     "data": {
      "text/plain": [
       "array([ 0.19226446,  0.57492358,  0.37294388])"
      ]
     },
     "execution_count": 257,
     "metadata": {},
     "output_type": "execute_result"
    }
   ],
   "source": [
    "l1"
   ]
  },
  {
   "cell_type": "code",
   "execution_count": 258,
   "metadata": {},
   "outputs": [
    {
     "data": {
      "text/plain": [
       "0.19226445851774857"
      ]
     },
     "execution_count": 258,
     "metadata": {},
     "output_type": "execute_result"
    }
   ],
   "source": [
    "lb[0]"
   ]
  }
 ],
 "metadata": {
  "kernelspec": {
   "display_name": "Python 3",
   "language": "python",
   "name": "python3"
  },
  "language_info": {
   "codemirror_mode": {
    "name": "ipython",
    "version": 3
   },
   "file_extension": ".py",
   "mimetype": "text/x-python",
   "name": "python",
   "nbconvert_exporter": "python",
   "pygments_lexer": "ipython3",
   "version": "3.7.4"
  }
 },
 "nbformat": 4,
 "nbformat_minor": 2
}
